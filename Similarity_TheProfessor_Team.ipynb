{
  "nbformat": 4,
  "nbformat_minor": 0,
  "metadata": {
    "colab": {
      "name": "Similarity_TheProfessor_Team.ipynb",
      "provenance": [],
      "collapsed_sections": []
    },
    "kernelspec": {
      "name": "python3",
      "display_name": "Python 3"
    },
    "language_info": {
      "name": "python"
    }
  },
  "cells": [
    {
      "cell_type": "markdown",
      "metadata": {
        "id": "586L_POwHEeg"
      },
      "source": [
        "### The Team Name: TheProfessor\n",
        "Luong Bang Tran - 1956417\n",
        "\n",
        "Gaurav Mohan Ramse - 1965564\n",
        "\n",
        "Tansel Simsek - 1942297\n"
      ]
    },
    {
      "cell_type": "code",
      "metadata": {
        "id": "BwDK7Lm0C768"
      },
      "source": [
        "pip install sentence-transformers"
      ],
      "execution_count": null,
      "outputs": []
    },
    {
      "cell_type": "code",
      "metadata": {
        "id": "FnTbqavRDLDJ"
      },
      "source": [
        "from sentence_transformers import SentenceTransformer"
      ],
      "execution_count": null,
      "outputs": []
    },
    {
      "cell_type": "code",
      "metadata": {
        "id": "9nhNpwskyN-X"
      },
      "source": [
        "model = SentenceTransformer('paraphrase-MiniLM-L12-v2')"
      ],
      "execution_count": null,
      "outputs": []
    },
    {
      "cell_type": "code",
      "metadata": {
        "colab": {
          "base_uri": "https://localhost:8080/",
          "height": 418
        },
        "id": "xVzMp6Ci0JV3",
        "outputId": "a74d0ce4-114a-47be-b9c4-fb2e1fa9e5c3"
      },
      "source": [
        "import pandas as pd\n",
        "data = pd.read_csv('/content/EfficentNetB7_20ep_glove.csv')\n",
        "data"
      ],
      "execution_count": 5,
      "outputs": [
        {
          "output_type": "execute_result",
          "data": {
            "text/html": [
              "<div>\n",
              "<style scoped>\n",
              "    .dataframe tbody tr th:only-of-type {\n",
              "        vertical-align: middle;\n",
              "    }\n",
              "\n",
              "    .dataframe tbody tr th {\n",
              "        vertical-align: top;\n",
              "    }\n",
              "\n",
              "    .dataframe thead th {\n",
              "        text-align: right;\n",
              "    }\n",
              "</style>\n",
              "<table border=\"1\" class=\"dataframe\">\n",
              "  <thead>\n",
              "    <tr style=\"text-align: right;\">\n",
              "      <th></th>\n",
              "      <th>true_caption</th>\n",
              "      <th>pred_caption</th>\n",
              "    </tr>\n",
              "  </thead>\n",
              "  <tbody>\n",
              "    <tr>\n",
              "      <th>0</th>\n",
              "      <td>a white canoe in a body of water in front of a...</td>\n",
              "      <td>a duck perched on a pier</td>\n",
              "    </tr>\n",
              "    <tr>\n",
              "      <th>1</th>\n",
              "      <td>a man kiteboarding over waves in the ocean</td>\n",
              "      <td>two people standing in the sun</td>\n",
              "    </tr>\n",
              "    <tr>\n",
              "      <th>2</th>\n",
              "      <td>a team playing baseball on a baseball diamond</td>\n",
              "      <td>some baseball play gets read to pitch the ball...</td>\n",
              "    </tr>\n",
              "    <tr>\n",
              "      <th>3</th>\n",
              "      <td>a group of players &lt;unk&gt; as they reach for a f...</td>\n",
              "      <td>everyone playing with a horse</td>\n",
              "    </tr>\n",
              "    <tr>\n",
              "      <th>4</th>\n",
              "      <td>a dog following two people on horses on a beach</td>\n",
              "      <td>a man riding a horse are on a horse pulling a ...</td>\n",
              "    </tr>\n",
              "    <tr>\n",
              "      <th>...</th>\n",
              "      <td>...</td>\n",
              "      <td>...</td>\n",
              "    </tr>\n",
              "    <tr>\n",
              "      <th>995</th>\n",
              "      <td>a body of water filled with lots of boats</td>\n",
              "      <td>the two boats are docked at the river</td>\n",
              "    </tr>\n",
              "    <tr>\n",
              "      <th>996</th>\n",
              "      <td>a table full of various types of cellphones &lt;u...</td>\n",
              "      <td>some items that are stopped on the ground with...</td>\n",
              "    </tr>\n",
              "    <tr>\n",
              "      <th>997</th>\n",
              "      <td>several people teach a child how to surf</td>\n",
              "      <td>a group of people that are smiling &lt;unk&gt;</td>\n",
              "    </tr>\n",
              "    <tr>\n",
              "      <th>998</th>\n",
              "      <td>some people are on a large wooden float shaped...</td>\n",
              "      <td>a group of people &lt;unk&gt; with everything</td>\n",
              "    </tr>\n",
              "    <tr>\n",
              "      <th>999</th>\n",
              "      <td>a cloudy day with two airplanes getting ready ...</td>\n",
              "      <td>a plane that is parked in the airport at the a...</td>\n",
              "    </tr>\n",
              "  </tbody>\n",
              "</table>\n",
              "<p>1000 rows × 2 columns</p>\n",
              "</div>"
            ],
            "text/plain": [
              "                                          true_caption                                       pred_caption\n",
              "0    a white canoe in a body of water in front of a...                           a duck perched on a pier\n",
              "1           a man kiteboarding over waves in the ocean                     two people standing in the sun\n",
              "2        a team playing baseball on a baseball diamond  some baseball play gets read to pitch the ball...\n",
              "3    a group of players <unk> as they reach for a f...                      everyone playing with a horse\n",
              "4      a dog following two people on horses on a beach  a man riding a horse are on a horse pulling a ...\n",
              "..                                                 ...                                                ...\n",
              "995          a body of water filled with lots of boats              the two boats are docked at the river\n",
              "996  a table full of various types of cellphones <u...  some items that are stopped on the ground with...\n",
              "997           several people teach a child how to surf           a group of people that are smiling <unk>\n",
              "998  some people are on a large wooden float shaped...            a group of people <unk> with everything\n",
              "999  a cloudy day with two airplanes getting ready ...  a plane that is parked in the airport at the a...\n",
              "\n",
              "[1000 rows x 2 columns]"
            ]
          },
          "metadata": {},
          "execution_count": 5
        }
      ]
    },
    {
      "cell_type": "code",
      "metadata": {
        "id": "RaZxRanD0S9C"
      },
      "source": [
        "data['true_caption_emdedding'] = data['true_caption'].apply(lambda x : model.encode(x))"
      ],
      "execution_count": 6,
      "outputs": []
    },
    {
      "cell_type": "code",
      "metadata": {
        "id": "dWgwYb0a1N58"
      },
      "source": [
        "data['pred_caption_emdedding'] = data['pred_caption'].apply(lambda x : model.encode(x))"
      ],
      "execution_count": 7,
      "outputs": []
    },
    {
      "cell_type": "code",
      "metadata": {
        "colab": {
          "base_uri": "https://localhost:8080/",
          "height": 587
        },
        "id": "tUmmL4fO1TA-",
        "outputId": "eebfd415-5d38-4912-a043-2357f8ec9b61"
      },
      "source": [
        "data"
      ],
      "execution_count": 8,
      "outputs": [
        {
          "output_type": "execute_result",
          "data": {
            "text/html": [
              "<div>\n",
              "<style scoped>\n",
              "    .dataframe tbody tr th:only-of-type {\n",
              "        vertical-align: middle;\n",
              "    }\n",
              "\n",
              "    .dataframe tbody tr th {\n",
              "        vertical-align: top;\n",
              "    }\n",
              "\n",
              "    .dataframe thead th {\n",
              "        text-align: right;\n",
              "    }\n",
              "</style>\n",
              "<table border=\"1\" class=\"dataframe\">\n",
              "  <thead>\n",
              "    <tr style=\"text-align: right;\">\n",
              "      <th></th>\n",
              "      <th>true_caption</th>\n",
              "      <th>pred_caption</th>\n",
              "      <th>true_caption_emdedding</th>\n",
              "      <th>pred_caption_emdedding</th>\n",
              "    </tr>\n",
              "  </thead>\n",
              "  <tbody>\n",
              "    <tr>\n",
              "      <th>0</th>\n",
              "      <td>a white canoe in a body of water in front of a...</td>\n",
              "      <td>a duck perched on a pier</td>\n",
              "      <td>[0.3325414, 0.19329476, 0.05953163, -0.3599656...</td>\n",
              "      <td>[0.3931591, -0.17856348, 0.34539768, -0.318751...</td>\n",
              "    </tr>\n",
              "    <tr>\n",
              "      <th>1</th>\n",
              "      <td>a man kiteboarding over waves in the ocean</td>\n",
              "      <td>two people standing in the sun</td>\n",
              "      <td>[-0.44295883, -0.014238959, 0.24918152, -0.142...</td>\n",
              "      <td>[-0.08283384, 0.47484773, 0.03006237, 0.428543...</td>\n",
              "    </tr>\n",
              "    <tr>\n",
              "      <th>2</th>\n",
              "      <td>a team playing baseball on a baseball diamond</td>\n",
              "      <td>some baseball play gets read to pitch the ball...</td>\n",
              "      <td>[0.22418919, -0.031759262, -0.63223886, -0.189...</td>\n",
              "      <td>[0.13959636, 0.17563227, -0.4827478, -0.327531...</td>\n",
              "    </tr>\n",
              "    <tr>\n",
              "      <th>3</th>\n",
              "      <td>a group of players &lt;unk&gt; as they reach for a f...</td>\n",
              "      <td>everyone playing with a horse</td>\n",
              "      <td>[-0.012096699, 0.09747802, -0.06521227, -0.322...</td>\n",
              "      <td>[0.29466492, 0.36850715, -0.16702132, -0.08677...</td>\n",
              "    </tr>\n",
              "    <tr>\n",
              "      <th>4</th>\n",
              "      <td>a dog following two people on horses on a beach</td>\n",
              "      <td>a man riding a horse are on a horse pulling a ...</td>\n",
              "      <td>[-0.030751439, -0.23862481, 0.13338763, 0.0448...</td>\n",
              "      <td>[0.42211467, 0.24397019, -0.21555415, 0.112046...</td>\n",
              "    </tr>\n",
              "    <tr>\n",
              "      <th>...</th>\n",
              "      <td>...</td>\n",
              "      <td>...</td>\n",
              "      <td>...</td>\n",
              "      <td>...</td>\n",
              "    </tr>\n",
              "    <tr>\n",
              "      <th>995</th>\n",
              "      <td>a body of water filled with lots of boats</td>\n",
              "      <td>the two boats are docked at the river</td>\n",
              "      <td>[0.6959337, -0.25576136, 0.432085, 0.21343961,...</td>\n",
              "      <td>[0.3679857, -0.038122468, 0.25713116, 0.016179...</td>\n",
              "    </tr>\n",
              "    <tr>\n",
              "      <th>996</th>\n",
              "      <td>a table full of various types of cellphones &lt;u...</td>\n",
              "      <td>some items that are stopped on the ground with...</td>\n",
              "      <td>[-0.22326986, 0.307643, -0.34172833, -0.005255...</td>\n",
              "      <td>[-0.15865888, 0.36322302, 0.2069868, -0.211507...</td>\n",
              "    </tr>\n",
              "    <tr>\n",
              "      <th>997</th>\n",
              "      <td>several people teach a child how to surf</td>\n",
              "      <td>a group of people that are smiling &lt;unk&gt;</td>\n",
              "      <td>[0.2647838, -0.13652126, 0.60782015, -0.572181...</td>\n",
              "      <td>[0.238511, 0.23785415, -0.09250707, -0.212799,...</td>\n",
              "    </tr>\n",
              "    <tr>\n",
              "      <th>998</th>\n",
              "      <td>some people are on a large wooden float shaped...</td>\n",
              "      <td>a group of people &lt;unk&gt; with everything</td>\n",
              "      <td>[0.36809057, 0.14977951, -0.13179627, -0.26859...</td>\n",
              "      <td>[-0.0016979658, 0.23372246, -0.33724484, -0.08...</td>\n",
              "    </tr>\n",
              "    <tr>\n",
              "      <th>999</th>\n",
              "      <td>a cloudy day with two airplanes getting ready ...</td>\n",
              "      <td>a plane that is parked in the airport at the a...</td>\n",
              "      <td>[0.32771954, 0.12836486, -0.11575523, 0.249946...</td>\n",
              "      <td>[0.7216604, -0.039349057, 0.105118014, -0.2687...</td>\n",
              "    </tr>\n",
              "  </tbody>\n",
              "</table>\n",
              "<p>1000 rows × 4 columns</p>\n",
              "</div>"
            ],
            "text/plain": [
              "                                          true_caption  ...                             pred_caption_emdedding\n",
              "0    a white canoe in a body of water in front of a...  ...  [0.3931591, -0.17856348, 0.34539768, -0.318751...\n",
              "1           a man kiteboarding over waves in the ocean  ...  [-0.08283384, 0.47484773, 0.03006237, 0.428543...\n",
              "2        a team playing baseball on a baseball diamond  ...  [0.13959636, 0.17563227, -0.4827478, -0.327531...\n",
              "3    a group of players <unk> as they reach for a f...  ...  [0.29466492, 0.36850715, -0.16702132, -0.08677...\n",
              "4      a dog following two people on horses on a beach  ...  [0.42211467, 0.24397019, -0.21555415, 0.112046...\n",
              "..                                                 ...  ...                                                ...\n",
              "995          a body of water filled with lots of boats  ...  [0.3679857, -0.038122468, 0.25713116, 0.016179...\n",
              "996  a table full of various types of cellphones <u...  ...  [-0.15865888, 0.36322302, 0.2069868, -0.211507...\n",
              "997           several people teach a child how to surf  ...  [0.238511, 0.23785415, -0.09250707, -0.212799,...\n",
              "998  some people are on a large wooden float shaped...  ...  [-0.0016979658, 0.23372246, -0.33724484, -0.08...\n",
              "999  a cloudy day with two airplanes getting ready ...  ...  [0.7216604, -0.039349057, 0.105118014, -0.2687...\n",
              "\n",
              "[1000 rows x 4 columns]"
            ]
          },
          "metadata": {},
          "execution_count": 8
        }
      ]
    },
    {
      "cell_type": "code",
      "metadata": {
        "id": "gRAlPtSC3hHi"
      },
      "source": [
        "from sklearn.metrics.pairwise import cosine_similarity\n",
        "from ast import literal_eval\n",
        "def get_similar_result_cosine(idx, real_captions, pred_captions):\n",
        "    s_score_list = []\n",
        "\n",
        "    for idx_2 in range(len(pred_captions)):\n",
        "      \n",
        "      s_score = cosine_similarity([real_captions[idx]], [pred_captions[idx_2]])[0][0]\n",
        "    #   print(s_score)\n",
        "      s_score_list.append((idx_2, s_score))\n",
        "\n",
        "    s_score_list.sort(key=lambda x: x[1], reverse=True)\n",
        "\n",
        "    return s_score_list"
      ],
      "execution_count": 9,
      "outputs": []
    },
    {
      "cell_type": "code",
      "metadata": {
        "id": "rD-fYenQ4Nyp"
      },
      "source": [
        "def create_submission_file(top_k, real_captions, pred_captions):\n",
        "    with open('./submission_jaccard.csv', 'w') as file:\n",
        "        writer = csv.writer(file)\n",
        "        writer.writerow([\"caption\", \"image_list\"])\n",
        "\n",
        "        for idx in range(0,1000):\n",
        "\n",
        "            s_score_res = get_similar_result_cosine(idx, real_captions, pred_captions)\n",
        "            # print(s_score_res)\n",
        "            writer.writerow([real_captions[idx],' '.join(list(map(lambda x: str(x[0]), s_score_res[:1000])))])"
      ],
      "execution_count": 10,
      "outputs": []
    },
    {
      "cell_type": "code",
      "metadata": {
        "id": "B4jyYxFx4dD5"
      },
      "source": [
        "import csv\n",
        "import tqdm\n",
        "import numpy as np\n",
        "create_submission_file(1000, data['true_caption_emdedding'].tolist(), data['pred_caption_emdedding'].tolist())"
      ],
      "execution_count": 11,
      "outputs": []
    }
  ]
}